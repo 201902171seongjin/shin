{
 "cells": [
  {
   "cell_type": "markdown",
   "id": "0942b4e9-9292-4ba2-b940-be283b40f3ab",
   "metadata": {},
   "source": [
    "데이터를 탐색하는 능력을 더 키워보겠습니다!"
   ]
  }
 ],
 "metadata": {
  "kernelspec": {
   "display_name": "Python 3 (ipykernel)",
   "language": "python",
   "name": "python3"
  },
  "language_info": {
   "codemirror_mode": {
    "name": "ipython",
    "version": 3
   },
   "file_extension": ".py",
   "mimetype": "text/x-python",
   "name": "python",
   "nbconvert_exporter": "python",
   "pygments_lexer": "ipython3",
   "version": "3.9.7"
  }
 },
 "nbformat": 4,
 "nbformat_minor": 5
}
