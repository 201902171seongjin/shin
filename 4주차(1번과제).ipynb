{
 "cells": [
  {
   "cell_type": "code",
   "execution_count": 11,
   "id": "2f98b794-3864-4142-8802-4d64ba1ffa4e",
   "metadata": {},
   "outputs": [],
   "source": [
    "import pandas as pd\n",
    "import numpy as np"
   ]
  },
  {
   "cell_type": "code",
   "execution_count": 12,
   "id": "8e371434-2e73-42e7-b5fe-c6d2c3f1d459",
   "metadata": {},
   "outputs": [],
   "source": [
    "movie = pd.read_csv('./movie.csv')"
   ]
  },
  {
   "cell_type": "code",
   "execution_count": 13,
   "id": "929cc537-b0da-4d7e-9b69-ff1a0f0a21cc",
   "metadata": {},
   "outputs": [
    {
     "name": "stdout",
     "output_type": "stream",
     "text": [
      "<class 'pandas.core.frame.DataFrame'>\n",
      "RangeIndex: 4916 entries, 0 to 4915\n",
      "Data columns (total 28 columns):\n",
      " #   Column                     Non-Null Count  Dtype  \n",
      "---  ------                     --------------  -----  \n",
      " 0   color                      4897 non-null   object \n",
      " 1   director_name              4814 non-null   object \n",
      " 2   num_critic_for_reviews     4867 non-null   float64\n",
      " 3   duration                   4901 non-null   float64\n",
      " 4   director_facebook_likes    4814 non-null   float64\n",
      " 5   actor_3_facebook_likes     4893 non-null   float64\n",
      " 6   actor_2_name               4903 non-null   object \n",
      " 7   actor_1_facebook_likes     4909 non-null   float64\n",
      " 8   gross                      4054 non-null   float64\n",
      " 9   genres                     4916 non-null   object \n",
      " 10  actor_1_name               4909 non-null   object \n",
      " 11  movie_title                4916 non-null   object \n",
      " 12  num_voted_users            4916 non-null   int64  \n",
      " 13  cast_total_facebook_likes  4916 non-null   int64  \n",
      " 14  actor_3_name               4893 non-null   object \n",
      " 15  facenumber_in_poster       4903 non-null   float64\n",
      " 16  plot_keywords              4764 non-null   object \n",
      " 17  movie_imdb_link            4916 non-null   object \n",
      " 18  num_user_for_reviews       4895 non-null   float64\n",
      " 19  language                   4904 non-null   object \n",
      " 20  country                    4911 non-null   object \n",
      " 21  content_rating             4616 non-null   object \n",
      " 22  budget                     4432 non-null   float64\n",
      " 23  title_year                 4810 non-null   float64\n",
      " 24  actor_2_facebook_likes     4903 non-null   float64\n",
      " 25  imdb_score                 4916 non-null   float64\n",
      " 26  aspect_ratio               4590 non-null   float64\n",
      " 27  movie_facebook_likes       4916 non-null   int64  \n",
      "dtypes: float64(13), int64(3), object(12)\n",
      "memory usage: 1.1+ MB\n"
     ]
    }
   ],
   "source": [
    "movie.info()"
   ]
  },
  {
   "cell_type": "code",
   "execution_count": 14,
   "id": "5ed8d053-774c-41fe-bedb-82aaee42f375",
   "metadata": {},
   "outputs": [],
   "source": [
    "movie1 = movie.iloc[:, :11].fillna(0)"
   ]
  },
  {
   "cell_type": "code",
   "execution_count": 15,
   "id": "a7f5f10b-1248-4770-b293-63bdc885d3f3",
   "metadata": {},
   "outputs": [
    {
     "name": "stdout",
     "output_type": "stream",
     "text": [
      "<class 'pandas.core.frame.DataFrame'>\n",
      "RangeIndex: 4916 entries, 0 to 4915\n",
      "Data columns (total 11 columns):\n",
      " #   Column                   Non-Null Count  Dtype  \n",
      "---  ------                   --------------  -----  \n",
      " 0   color                    4916 non-null   object \n",
      " 1   director_name            4916 non-null   object \n",
      " 2   num_critic_for_reviews   4916 non-null   float64\n",
      " 3   duration                 4916 non-null   float64\n",
      " 4   director_facebook_likes  4916 non-null   float64\n",
      " 5   actor_3_facebook_likes   4916 non-null   float64\n",
      " 6   actor_2_name             4916 non-null   object \n",
      " 7   actor_1_facebook_likes   4916 non-null   float64\n",
      " 8   gross                    4916 non-null   float64\n",
      " 9   genres                   4916 non-null   object \n",
      " 10  actor_1_name             4916 non-null   object \n",
      "dtypes: float64(6), object(5)\n",
      "memory usage: 422.6+ KB\n"
     ]
    }
   ],
   "source": [
    "movie1.info()"
   ]
  },
  {
   "cell_type": "markdown",
   "id": "04d4231e-999e-445f-a81f-5d1dd947995a",
   "metadata": {},
   "source": [
    "float 값을 가진 컬럼들을 먼저 정리한다."
   ]
  },
  {
   "cell_type": "code",
   "execution_count": 33,
   "id": "9ddf4469-9c6d-418d-b841-f0fd74ee4138",
   "metadata": {},
   "outputs": [],
   "source": [
    "movie1['num_critic_for_reviews'] = movie1['num_critic_for_reviews'].astype(np.float16)"
   ]
  },
  {
   "cell_type": "code",
   "execution_count": 37,
   "id": "f43fc71a-ac27-432c-98f9-410e4ecf6eb2",
   "metadata": {},
   "outputs": [],
   "source": [
    "movie1['duration'] = movie1['duration'].astype(np.float16)"
   ]
  },
  {
   "cell_type": "code",
   "execution_count": 39,
   "id": "ddb52644-6d76-49a1-83ed-80c5a488115f",
   "metadata": {},
   "outputs": [],
   "source": [
    "movie1['director_facebook_likes'] = movie1['director_facebook_likes'].astype(np.float16)"
   ]
  },
  {
   "cell_type": "code",
   "execution_count": 40,
   "id": "146f6d12-19bb-45ed-af0f-56ce824200a2",
   "metadata": {},
   "outputs": [],
   "source": [
    "movie1['actor_3_facebook_likes'] = movie1['actor_3_facebook_likes'].astype(np.float16)"
   ]
  },
  {
   "cell_type": "code",
   "execution_count": 41,
   "id": "49e20949-5b7c-4b21-914d-15137fcc4253",
   "metadata": {},
   "outputs": [],
   "source": [
    "movie1['actor_1_facebook_likes'] = movie1['actor_1_facebook_likes'].astype(np.float16)"
   ]
  },
  {
   "cell_type": "code",
   "execution_count": 42,
   "id": "fc5575ab-544d-47a2-980d-8122118cba9a",
   "metadata": {},
   "outputs": [],
   "source": [
    "movie1['gross'] = movie1['gross'].astype(np.float16)"
   ]
  },
  {
   "cell_type": "code",
   "execution_count": 43,
   "id": "bb081bee-b375-4a85-a6e4-c97d37da4114",
   "metadata": {},
   "outputs": [
    {
     "data": {
      "text/plain": [
       "Index                         128\n",
       "color                      306262\n",
       "director_name              343388\n",
       "num_critic_for_reviews       9832\n",
       "duration                     9832\n",
       "director_facebook_likes      9832\n",
       "actor_3_facebook_likes       9832\n",
       "actor_2_name               346635\n",
       "actor_1_facebook_likes       9832\n",
       "gross                        9832\n",
       "genres                     379929\n",
       "actor_1_name               346599\n",
       "dtype: int64"
      ]
     },
     "execution_count": 43,
     "metadata": {},
     "output_type": "execute_result"
    }
   ],
   "source": [
    "movie1.memory_usage(deep=True)"
   ]
  },
  {
   "cell_type": "code",
   "execution_count": null,
   "id": "4635ea72-38a9-4d69-923b-630ffd8fab1b",
   "metadata": {},
   "outputs": [
    {
     "name": "stdout",
     "output_type": "stream",
     "text": [
      "<class 'pandas.core.frame.DataFrame'>\n",
      "RangeIndex: 4916 entries, 0 to 4915\n",
      "Data columns (total 11 columns):\n",
      " #   Column                   Non-Null Count  Dtype  \n",
      "---  ------                   --------------  -----  \n",
      " 0   color                    4916 non-null   object \n",
      " 1   director_name            4916 non-null   object \n",
      " 2   num_critic_for_reviews   4916 non-null   float16\n",
      " 3   duration                 4916 non-null   float16\n",
      " 4   director_facebook_likes  4916 non-null   float16\n",
      " 5   actor_3_facebook_likes   4916 non-null   float16\n",
      " 6   actor_2_name             4916 non-null   object \n",
      " 7   actor_1_facebook_likes   4916 non-null   float16\n",
      " 8   gross                    4916 non-null   float16\n",
      " 9   genres                   4916 non-null   object \n",
      " 10  actor_1_name             4916 non-null   object \n",
      "dtypes: float16(6), object(5)\n",
      "memory usage: 249.8+ KB\n"
     ]
    }
   ],
   "source": [
    "movie1.info()"
   ]
  },
  {
   "cell_type": "markdown",
   "id": "62b53369-069f-463c-8c72-eecbbae5478c",
   "metadata": {},
   "source": [
    "메모리가 상당히 줄어든것을 확인 할 수 있다."
   ]
  },
  {
   "cell_type": "code",
   "execution_count": 46,
   "id": "ab0badc5-de29-4520-a445-230470b56368",
   "metadata": {},
   "outputs": [
    {
     "name": "stdout",
     "output_type": "stream",
     "text": [
      "59.11026975863701 %\n"
     ]
    }
   ],
   "source": [
    "print(249.8 / 422.6 * 100, '%')"
   ]
  },
  {
   "cell_type": "markdown",
   "id": "5a300b82-9ef6-44d3-85a4-ab9ac56771af",
   "metadata": {},
   "source": [
    "object를 category로 변환하여 메모리를 줄여보자."
   ]
  },
  {
   "cell_type": "code",
   "execution_count": 48,
   "id": "89d2f5fb-490e-4cc2-a318-14e97f1a14d2",
   "metadata": {},
   "outputs": [
    {
     "data": {
      "text/plain": [
       "color               3\n",
       "director_name    2398\n",
       "actor_2_name     3031\n",
       "genres            914\n",
       "actor_1_name     2096\n",
       "dtype: int64"
      ]
     },
     "execution_count": 48,
     "metadata": {},
     "output_type": "execute_result"
    }
   ],
   "source": [
    "movie1.select_dtypes(include=['object']).nunique()"
   ]
  },
  {
   "cell_type": "code",
   "execution_count": null,
   "id": "b88c0fa7-24b4-4f0f-b7b3-dfb7b26a23b2",
   "metadata": {},
   "outputs": [],
   "source": [
    "color 값은 category로 변환하지 않아도 된다."
   ]
  },
  {
   "cell_type": "code",
   "execution_count": 50,
   "id": "579980bf-fdcb-432b-9863-4b5aee6ffef2",
   "metadata": {},
   "outputs": [],
   "source": [
    "movie1['director_name'] = movie1['director_name'].astype('category')"
   ]
  },
  {
   "cell_type": "code",
   "execution_count": 52,
   "id": "ce8b61dc-209b-4907-bde9-3ce72f31757d",
   "metadata": {},
   "outputs": [],
   "source": [
    "movie1['actor_2_name'] = movie1['actor_2_name'].astype('category')"
   ]
  },
  {
   "cell_type": "code",
   "execution_count": 54,
   "id": "d7954f28-5b96-4622-932f-6133100e9e7f",
   "metadata": {},
   "outputs": [],
   "source": [
    "movie1['genres'] = movie1['genres'].astype('category')"
   ]
  },
  {
   "cell_type": "code",
   "execution_count": 55,
   "id": "ee08518f-2946-409c-bde9-9628745ba854",
   "metadata": {},
   "outputs": [],
   "source": [
    "movie1['actor_1_name'] = movie1['actor_1_name'].astype('category')"
   ]
  },
  {
   "cell_type": "code",
   "execution_count": 56,
   "id": "c44d7435-9078-4040-b950-cd773424e6d7",
   "metadata": {},
   "outputs": [
    {
     "data": {
      "text/plain": [
       "Index                         128\n",
       "color                      306262\n",
       "director_name              245814\n",
       "num_critic_for_reviews       9832\n",
       "duration                     9832\n",
       "director_facebook_likes      9832\n",
       "actor_3_facebook_likes       9832\n",
       "actor_2_name               290652\n",
       "actor_1_facebook_likes       9832\n",
       "gross                        9832\n",
       "genres                     121102\n",
       "actor_1_name               224147\n",
       "dtype: int64"
      ]
     },
     "execution_count": 56,
     "metadata": {},
     "output_type": "execute_result"
    }
   ],
   "source": [
    "movie1.memory_usage(deep=True)"
   ]
  },
  {
   "cell_type": "markdown",
   "id": "ab1b010f-d8d3-40ea-8aeb-8b307bd0d159",
   "metadata": {},
   "source": [
    "최종적으로 메모리값은 모두 큰 폭으로 감소했다."
   ]
  }
 ],
 "metadata": {
  "kernelspec": {
   "display_name": "Python 3 (ipykernel)",
   "language": "python",
   "name": "python3"
  },
  "language_info": {
   "codemirror_mode": {
    "name": "ipython",
    "version": 3
   },
   "file_extension": ".py",
   "mimetype": "text/x-python",
   "name": "python",
   "nbconvert_exporter": "python",
   "pygments_lexer": "ipython3",
   "version": "3.9.7"
  }
 },
 "nbformat": 4,
 "nbformat_minor": 5
}
